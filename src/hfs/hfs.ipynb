{
 "cells": [
  {
   "cell_type": "code",
   "execution_count": 10,
   "metadata": {},
   "outputs": [
    {
     "name": "stdout",
     "output_type": "stream",
     "text": [
      "Post Date: 2024-08-22 08:06:42\n",
      "Caption: #문정역맛집 #문정동맛집 #문정맛집 #문정역한식뷔페 #문정동한식뷔페 #문정한식뷔페 #한식뷔페 #문정동맛집추천 #맛집추천 #좋반 #좋아요반사 #맞팔 #맞팔로우 #lfl #fff #likeforlikes #likeforfollow #followforfollow\n",
      "hfs_images/2024-08-22_08-06-42_UTC_1.jpg hfs_images/2024-08-22_08-06-42_UTC_2.jpg hfs_images/2024-08-22_08-06-42_UTC_3.jpg hfs_images/2024-08-22_08-06-42_UTC_4.jpg hfs_images/2024-08-22_08-06-42_UTC_5.jpg hfs_images/2024-08-22_08-06-42_UTC_6.jpg hfs_images/2024-08-22_08-06-42_UTC_7.jpg hfs_images/2024-08-22_08-06-42_UTC_8.jpg hfs_images/2024-08-22_08-06-42_UTC_9.jpg hfs_images/2024-08-22_08-06-42_UTC_10.jpg [#문정역맛집 #문정동맛집 #문정맛집 #문정역한식뷔페 …] json \n"
     ]
    },
    {
     "data": {
      "text/plain": [
       "True"
      ]
     },
     "execution_count": 10,
     "metadata": {},
     "output_type": "execute_result"
    }
   ],
   "source": [
    "import instaloader\n",
    "\n",
    "# Instaloader 인스턴스 생성\n",
    "L = instaloader.Instaloader()\n",
    "\n",
    "# 인스타그램 프로필 이름 설정\n",
    "profile_name = \"hfoodstory\"  # 여기에 원하는 인스타그램 사용자 이름을 입력하세요\n",
    "\n",
    "# 프로필 로드\n",
    "profile = instaloader.Profile.from_username(L.context, profile_name)\n",
    "\n",
    "latest_post = next(profile.get_posts())\n",
    "\n",
    "print(f\"Post Date: {latest_post.date}\")\n",
    "print(f\"Caption: {latest_post.caption}\")\n",
    "\n",
    "import os\n",
    "from glob import glob\n",
    "\n",
    "# 기존에 있던 이미지 삭제\n",
    "paths = glob(\"./hfs_images/*\")\n",
    "for path in paths:\n",
    "    os.remove(path)\n",
    "\n",
    "# 포스트의 이미지 다운로드\n",
    "L.download_post(latest_post, target=\"hfs_images\")\n",
    "\n",
    "# L.get_feed_posts(latest_post)"
   ]
  },
  {
   "cell_type": "code",
   "execution_count": 11,
   "metadata": {},
   "outputs": [
    {
     "name": "stderr",
     "output_type": "stream",
     "text": [
      "/opt/homebrew/Caskroom/miniforge/base/envs/data-engineering/lib/python3.10/site-packages/slack_sdk/web/client.py:3660: UserWarning: Although the channels parameter is still supported for smooth migration from legacy files.upload, we recommend using the new channel parameter with a single str value instead for more clarity.\n",
      "  warnings.warn(\n"
     ]
    },
    {
     "name": "stdout",
     "output_type": "stream",
     "text": [
      "Message and images sent successfully.\n"
     ]
    }
   ],
   "source": [
    "from slack_sdk import WebClient\n",
    "from slack_sdk.errors import SlackApiError\n",
    "\n",
    "from glob import glob\n",
    "from datetime import datetime\n",
    "\n",
    "today = datetime.now().strftime(\"%Y-%m-%d %H\")\n",
    "# Slack API 토큰과 채널 ID를 입력하세요\n",
    "slack_token = \"\"  # \"xoxb-...\"\n",
    "channel_id = \"\"  # 예: 'C01234567'\n",
    "\n",
    "image_paths = glob(\"hfs_images/*.jpg\")\n",
    "message = \"Hello, Slack channel! Here is an image.\"\n",
    "\n",
    "# Slack 클라이언트 초기화\n",
    "client = WebClient(token=slack_token)\n",
    "\n",
    "try:\n",
    "    attachments = []\n",
    "\n",
    "    # 이미지 파일들을 업로드하고, 각각의 URL을 얻음\n",
    "    for image_path in image_paths:\n",
    "        attachments.append(\n",
    "            {\n",
    "                \"title\": f\"Image {image_paths.index(image_path) + 1} attachment\",\n",
    "                \"file\": image_path,\n",
    "            }\n",
    "        )\n",
    "    response = client.files_upload_v2(\n",
    "        channels=channel_id,\n",
    "        file_uploads=attachments,\n",
    "        initial_comment=f\"{today}시 기준 HFS 최신 메뉴 정보입니다.\",\n",
    "    )\n",
    "    print(\"Message and images sent successfully.\")\n",
    "\n",
    "except SlackApiError as e:\n",
    "    # 에러가 발생한 경우 에러 메시지 출력\n",
    "    print(f\"Error sending message or images: {e.response['error']}\")"
   ]
  },
  {
   "cell_type": "code",
   "execution_count": 9,
   "metadata": {},
   "outputs": [
    {
     "data": {
      "text/plain": [
       "'안녕하세요! 요청하신 운송료에 대한 상세 내역을 안내해 드리겠습니다.\\n*출발지:* 당산동 \\n*도착지:* 문정동\\n*운송료 내역:*\\n• *총 운송료:* 144,000원\\n• *거리 비용:* 64,000원\\n• *추가 옵션 비용:* 80,000원\\n운송료는 센디 물류 견적서를 기준으로 계산되었습니다.\\n*거리:* 28.87km\\n'"
      ]
     },
     "execution_count": 9,
     "metadata": {},
     "output_type": "execute_result"
    }
   ],
   "source": [
    "from slackstyler import SlackStyler\n",
    "\n",
    "SlackStyler().convert(\n",
    "    \"안녕하세요! 요청하신 운송료에 대한 상세 내역을 안내해 드리겠습니다.\\n\\n**출발지:** 당산동 \\n**도착지:** 문정동\\n\\n**운송료 내역:**\\n- **총 운송료:** 144,000원\\n- **거리 비용:** 64,000원\\n- **추가 옵션 비용:** 80,000원\\n\\n운송료는 센디 물류 견적서를 기준으로 계산되었습니다.\\n\\n**거리:** 28.87km\\n\\n\"\n",
    ")"
   ]
  },
  {
   "cell_type": "code",
   "execution_count": null,
   "metadata": {},
   "outputs": [],
   "source": []
  }
 ],
 "metadata": {
  "kernelspec": {
   "display_name": "data-engineering",
   "language": "python",
   "name": "python3"
  },
  "language_info": {
   "codemirror_mode": {
    "name": "ipython",
    "version": 3
   },
   "file_extension": ".py",
   "mimetype": "text/x-python",
   "name": "python",
   "nbconvert_exporter": "python",
   "pygments_lexer": "ipython3",
   "version": "3.10.14"
  }
 },
 "nbformat": 4,
 "nbformat_minor": 2
}
